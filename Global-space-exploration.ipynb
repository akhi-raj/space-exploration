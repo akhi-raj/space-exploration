{
 "cells": [
  {
   "cell_type": "code",
   "execution_count": 1,
   "id": "7bb630ae-466f-4a4a-85e8-c48f67be22d9",
   "metadata": {},
   "outputs": [],
   "source": [
    "import pandas as pd"
   ]
  },
  {
   "cell_type": "code",
   "execution_count": 3,
   "id": "5229612a-a4c5-4031-a30d-9612f8196619",
   "metadata": {},
   "outputs": [],
   "source": [
    "df = pd.read_csv(r\"C:\\Users\\Admin\\Downloads\\GSE\\Global_Space_Exploration_Dataset.csv\")"
   ]
  },
  {
   "cell_type": "code",
   "execution_count": 4,
   "id": "021f77c9-eef6-45ae-b341-6a027eb7511f",
   "metadata": {},
   "outputs": [
    {
     "name": "stdout",
     "output_type": "stream",
     "text": [
      "<class 'pandas.core.frame.DataFrame'>\n",
      "RangeIndex: 3000 entries, 0 to 2999\n",
      "Data columns (total 12 columns):\n",
      " #   Column                   Non-Null Count  Dtype  \n",
      "---  ------                   --------------  -----  \n",
      " 0   Country                  3000 non-null   object \n",
      " 1   Year                     3000 non-null   int64  \n",
      " 2   Mission Name             3000 non-null   object \n",
      " 3   Mission Type             3000 non-null   object \n",
      " 4   Launch Site              3000 non-null   object \n",
      " 5   Satellite Type           3000 non-null   object \n",
      " 6   Budget (in Billion $)    3000 non-null   float64\n",
      " 7   Success Rate (%)         3000 non-null   int64  \n",
      " 8   Technology Used          3000 non-null   object \n",
      " 9   Environmental Impact     3000 non-null   object \n",
      " 10  Collaborating Countries  3000 non-null   object \n",
      " 11  Duration (in Days)       3000 non-null   int64  \n",
      "dtypes: float64(1), int64(3), object(8)\n",
      "memory usage: 281.4+ KB\n"
     ]
    }
   ],
   "source": [
    "df.info()"
   ]
  },
  {
   "cell_type": "code",
   "execution_count": 5,
   "id": "cb467503-07c8-4e9f-a604-210f4315fc5c",
   "metadata": {},
   "outputs": [
    {
     "data": {
      "text/html": [
       "<div>\n",
       "<style scoped>\n",
       "    .dataframe tbody tr th:only-of-type {\n",
       "        vertical-align: middle;\n",
       "    }\n",
       "\n",
       "    .dataframe tbody tr th {\n",
       "        vertical-align: top;\n",
       "    }\n",
       "\n",
       "    .dataframe thead th {\n",
       "        text-align: right;\n",
       "    }\n",
       "</style>\n",
       "<table border=\"1\" class=\"dataframe\">\n",
       "  <thead>\n",
       "    <tr style=\"text-align: right;\">\n",
       "      <th></th>\n",
       "      <th>Year</th>\n",
       "      <th>Budget (in Billion $)</th>\n",
       "      <th>Success Rate (%)</th>\n",
       "      <th>Duration (in Days)</th>\n",
       "    </tr>\n",
       "  </thead>\n",
       "  <tbody>\n",
       "    <tr>\n",
       "      <th>count</th>\n",
       "      <td>3000.000000</td>\n",
       "      <td>3000.000000</td>\n",
       "      <td>3000.000000</td>\n",
       "      <td>3000.000000</td>\n",
       "    </tr>\n",
       "    <tr>\n",
       "      <th>mean</th>\n",
       "      <td>2012.471000</td>\n",
       "      <td>25.428917</td>\n",
       "      <td>74.985000</td>\n",
       "      <td>181.483000</td>\n",
       "    </tr>\n",
       "    <tr>\n",
       "      <th>std</th>\n",
       "      <td>7.437177</td>\n",
       "      <td>14.108438</td>\n",
       "      <td>14.945252</td>\n",
       "      <td>104.983822</td>\n",
       "    </tr>\n",
       "    <tr>\n",
       "      <th>min</th>\n",
       "      <td>2000.000000</td>\n",
       "      <td>0.530000</td>\n",
       "      <td>50.000000</td>\n",
       "      <td>1.000000</td>\n",
       "    </tr>\n",
       "    <tr>\n",
       "      <th>25%</th>\n",
       "      <td>2006.000000</td>\n",
       "      <td>12.977500</td>\n",
       "      <td>62.000000</td>\n",
       "      <td>91.000000</td>\n",
       "    </tr>\n",
       "    <tr>\n",
       "      <th>50%</th>\n",
       "      <td>2012.000000</td>\n",
       "      <td>25.495000</td>\n",
       "      <td>75.000000</td>\n",
       "      <td>180.000000</td>\n",
       "    </tr>\n",
       "    <tr>\n",
       "      <th>75%</th>\n",
       "      <td>2019.000000</td>\n",
       "      <td>37.597500</td>\n",
       "      <td>88.000000</td>\n",
       "      <td>272.000000</td>\n",
       "    </tr>\n",
       "    <tr>\n",
       "      <th>max</th>\n",
       "      <td>2025.000000</td>\n",
       "      <td>49.970000</td>\n",
       "      <td>100.000000</td>\n",
       "      <td>365.000000</td>\n",
       "    </tr>\n",
       "  </tbody>\n",
       "</table>\n",
       "</div>"
      ],
      "text/plain": [
       "              Year  Budget (in Billion $)  Success Rate (%)  \\\n",
       "count  3000.000000            3000.000000       3000.000000   \n",
       "mean   2012.471000              25.428917         74.985000   \n",
       "std       7.437177              14.108438         14.945252   \n",
       "min    2000.000000               0.530000         50.000000   \n",
       "25%    2006.000000              12.977500         62.000000   \n",
       "50%    2012.000000              25.495000         75.000000   \n",
       "75%    2019.000000              37.597500         88.000000   \n",
       "max    2025.000000              49.970000        100.000000   \n",
       "\n",
       "       Duration (in Days)  \n",
       "count         3000.000000  \n",
       "mean           181.483000  \n",
       "std            104.983822  \n",
       "min              1.000000  \n",
       "25%             91.000000  \n",
       "50%            180.000000  \n",
       "75%            272.000000  \n",
       "max            365.000000  "
      ]
     },
     "execution_count": 5,
     "metadata": {},
     "output_type": "execute_result"
    }
   ],
   "source": [
    "df.describe()"
   ]
  },
  {
   "cell_type": "code",
   "execution_count": 10,
   "id": "d91e05ca-6143-4969-96b3-6c5c2601f68d",
   "metadata": {},
   "outputs": [
    {
     "data": {
      "text/plain": [
       "Country                    0\n",
       "Year                       0\n",
       "Mission Name               0\n",
       "Mission Type               0\n",
       "Launch Site                0\n",
       "Satellite Type             0\n",
       "Budget (in Billion $)      0\n",
       "Success Rate (%)           0\n",
       "Technology Used            0\n",
       "Environmental Impact       0\n",
       "Collaborating Countries    0\n",
       "Duration (in Days)         0\n",
       "dtype: int64"
      ]
     },
     "execution_count": 10,
     "metadata": {},
     "output_type": "execute_result"
    }
   ],
   "source": [
    "df.isna().sum()"
   ]
  },
  {
   "cell_type": "code",
   "execution_count": 11,
   "id": "0a4d1b8d-1425-4c56-89f9-88645d986e65",
   "metadata": {},
   "outputs": [],
   "source": [
    "# Trends over years"
   ]
  }
 ],
 "metadata": {
  "kernelspec": {
   "display_name": "Python 3 (ipykernel)",
   "language": "python",
   "name": "python3"
  },
  "language_info": {
   "codemirror_mode": {
    "name": "ipython",
    "version": 3
   },
   "file_extension": ".py",
   "mimetype": "text/x-python",
   "name": "python",
   "nbconvert_exporter": "python",
   "pygments_lexer": "ipython3",
   "version": "3.12.7"
  }
 },
 "nbformat": 4,
 "nbformat_minor": 5
}
